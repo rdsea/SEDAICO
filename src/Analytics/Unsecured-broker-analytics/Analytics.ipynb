{
 "cells": [
  {
   "cell_type": "code",
   "execution_count": 91,
   "metadata": {},
   "outputs": [],
   "source": [
    "import csv\n",
    "import matplotlib\n",
    "import matplotlib.pyplot as plt"
   ]
  },
  {
   "cell_type": "markdown",
   "metadata": {},
   "source": [
    "__Create the variable to read the csv__"
   ]
  },
  {
   "cell_type": "code",
   "execution_count": 92,
   "metadata": {},
   "outputs": [],
   "source": [
    "normal_csv_path # Fill the csv full path\n",
    "attack_csv_path # Fill the csv full path"
   ]
  },
  {
   "cell_type": "markdown",
   "metadata": {},
   "source": [
    "### Read the CSV's from the data folder to peform the analytics\n"
   ]
  },
  {
   "cell_type": "code",
   "execution_count": 93,
   "metadata": {},
   "outputs": [],
   "source": [
    "column_meta_data = []\n",
    "column_count = 0\n",
    "with open(attack_csv_path) as csv_file:\n",
    "    csv_reader = csv.reader(csv_file, delimiter=',')\n",
    "    for idx, row in enumerate(csv_reader):\n",
    "        if idx == 0:\n",
    "            column_meta_data = row\n",
    "            break\n",
    "\n",
    "column_count = len(column_meta_data)"
   ]
  },
  {
   "cell_type": "markdown",
   "metadata": {},
   "source": [
    "#### Transform the CSV data to python dictionary"
   ]
  },
  {
   "cell_type": "code",
   "execution_count": 94,
   "metadata": {},
   "outputs": [],
   "source": [
    "def convert_to_dict(file_path):\n",
    "    data = []\n",
    "    with open(file_path) as csv_file:\n",
    "        csv_reader = csv.reader(csv_file, delimiter=',')\n",
    "        csv_reader = list(csv_reader)\n",
    "        for idx, row in enumerate(csv_reader):\n",
    "            if idx == 0 or idx == len(csv_reader)-1:\n",
    "                pass #skip the first and last row\n",
    "            else:\n",
    "                dict_temp = {}\n",
    "                dict_temp = {key: row[index] for index, key in enumerate(column_meta_data)}\n",
    "                data.append(dict_temp)\n",
    "    return data\n",
    "\n",
    "normal_data = convert_to_dict(normal_csv_path)\n",
    "\n",
    "attack_data = convert_to_dict(attack_csv_path)"
   ]
  },
  {
   "cell_type": "markdown",
   "metadata": {},
   "source": [
    "### The avg rate of ingestion is calculated as :\n",
    "$Rate = \\sum_{n=0}^{len(data)} \\frac{cloud\\_artefacts}{len(cloud\\_artefacts)}$"
   ]
  },
  {
   "cell_type": "code",
   "execution_count": 156,
   "metadata": {},
   "outputs": [],
   "source": [
    "avg_normal_ingestion_rate = [(float(data['Cassandra Statements Executed']) + float(data['Cloud - Kafka']))/2 for data in normal_data]\n",
    "avg_attack_ingestion_rate = [(float(data['Cassandra Statements Executed']) + float(data['Cloud - Kafka']))/2 for data in attack_data]\n"
   ]
  },
  {
   "cell_type": "markdown",
   "metadata": {},
   "source": [
    "### Plot the figure using normal statistics"
   ]
  },
  {
   "cell_type": "code",
   "execution_count": null,
   "metadata": {},
   "outputs": [],
   "source": [
    "fig, axs = plt.subplots()\n",
    "axs.plot(avg_normal_ingestion_rate, '--', label=\"Normal Condition\")\n",
    "axs.plot(avg_attack_ingestion_rate, \"-\", label=\"Attack Condition\")\n",
    "axs.set_xlabel('time')\n",
    "\n",
    "axs.set_ylabel('Rate of Ingestion')\n",
    "fig.tight_layout()\n",
    "axs.legend()\n",
    "plt.savefig(\"figure.pdf\")\n",
    "plt.show()\n"
   ]
  }
 ],
 "metadata": {
  "kernelspec": {
   "display_name": "Python 3",
   "language": "python",
   "name": "python3"
  },
  "language_info": {
   "codemirror_mode": {
    "name": "ipython",
    "version": 3
   },
   "file_extension": ".py",
   "mimetype": "text/x-python",
   "name": "python",
   "nbconvert_exporter": "python",
   "pygments_lexer": "ipython3",
   "version": "3.8.5"
  }
 },
 "nbformat": 4,
 "nbformat_minor": 4
}